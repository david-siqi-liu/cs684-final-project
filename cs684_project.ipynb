{
  "nbformat": 4,
  "nbformat_minor": 0,
  "metadata": {
    "colab": {
      "name": "cs684-project.ipynb",
      "provenance": [],
      "collapsed_sections": [
        "KYwCR9QNtfE6"
      ],
      "toc_visible": true,
      "include_colab_link": true
    },
    "kernelspec": {
      "name": "python3",
      "display_name": "Python 3"
    },
    "accelerator": "GPU"
  },
  "cells": [
    {
      "cell_type": "markdown",
      "metadata": {
        "id": "view-in-github",
        "colab_type": "text"
      },
      "source": [
        "<a href=\"https://colab.research.google.com/github/david-siqi-liu/cs684-final-project/blob/master/cs684_project.ipynb\" target=\"_parent\"><img src=\"https://colab.research.google.com/assets/colab-badge.svg\" alt=\"Open In Colab\"/></a>"
      ]
    },
    {
      "cell_type": "markdown",
      "metadata": {
        "id": "aB47iAzbsxx_",
        "colab_type": "text"
      },
      "source": [
        "# Download Data"
      ]
    },
    {
      "cell_type": "code",
      "metadata": {
        "id": "1NI0-Jx2IgZ0",
        "colab_type": "code",
        "outputId": "af495d31-238b-48fc-ef55-1e0d037745ca",
        "colab": {
          "base_uri": "https://localhost:8080/",
          "height": 122
        }
      },
      "source": [
        "from google.colab import drive\n",
        "drive.mount('/content/drive')"
      ],
      "execution_count": 1,
      "outputs": [
        {
          "output_type": "stream",
          "text": [
            "Go to this URL in a browser: https://accounts.google.com/o/oauth2/auth?client_id=947318989803-6bn6qk8qdgf4n4g3pfee6491hc0brc4i.apps.googleusercontent.com&redirect_uri=urn%3aietf%3awg%3aoauth%3a2.0%3aoob&response_type=code&scope=email%20https%3a%2f%2fwww.googleapis.com%2fauth%2fdocs.test%20https%3a%2f%2fwww.googleapis.com%2fauth%2fdrive%20https%3a%2f%2fwww.googleapis.com%2fauth%2fdrive.photos.readonly%20https%3a%2f%2fwww.googleapis.com%2fauth%2fpeopleapi.readonly\n",
            "\n",
            "Enter your authorization code:\n",
            "··········\n",
            "Mounted at /content/drive\n"
          ],
          "name": "stdout"
        }
      ]
    },
    {
      "cell_type": "code",
      "metadata": {
        "colab_type": "code",
        "id": "A0vnybQBrDzV",
        "cellView": "code",
        "colab": {}
      },
      "source": [
        "from urllib.request import urlretrieve\n",
        "import os\n",
        "from zipfile import ZipFile\n",
        "\n",
        "def download(url, file):\n",
        "    if not os.path.isfile(file):\n",
        "        urlretrieve(url, file)\n",
        "\n",
        "#If the downloaded file is a zip file than you can use below function to unzip it.\n",
        "def uncompress_features_labels(source, file, dest):\n",
        "    if not os.path.isdir(file):\n",
        "        with ZipFile(source) as zipf:\n",
        "            zipf.extractall(dest)"
      ],
      "execution_count": 0,
      "outputs": []
    },
    {
      "cell_type": "markdown",
      "metadata": {
        "id": "GtQWsgY9fQDD",
        "colab_type": "text"
      },
      "source": [
        "'clipart.zip', 'infograph.zip', 'quickdraw.zip', 'real.zip', 'sketch.zip'"
      ]
    },
    {
      "cell_type": "code",
      "metadata": {
        "colab_type": "code",
        "id": "ArnoEFEqaoST",
        "outputId": "dd6054d5-5220-4b5d-f22c-6b706e741edd",
        "colab": {
          "base_uri": "https://localhost:8080/",
          "height": 275
        }
      },
      "source": [
        "for file in ['quickdraw.zip']:\n",
        "  download('http://csr.bu.edu/ftp/visda/2019/multi-source/' + file,\n",
        "           file)\n",
        "  print(\"Downloaded: {0}\".format(file))\n",
        "  uncompress_features_labels(file,\n",
        "                             'drive/My Drive/Colab Notebooks/data/' + file.split('.zip')[0],\n",
        "                             'drive/My Drive/Colab Notebooks/data/')\n",
        "  print(\"Extracted: {0}\".format(file))"
      ],
      "execution_count": 0,
      "outputs": [
        {
          "output_type": "stream",
          "text": [
            "Downloaded: quickdraw.zip\n"
          ],
          "name": "stdout"
        },
        {
          "output_type": "stream",
          "text": [
            "Exception ignored in: <bound method _MultiProcessingDataLoaderIter.__del__ of <torch.utils.data.dataloader._MultiProcessingDataLoaderIter object at 0x7f7b1cde2fd0>>\n",
            "Traceback (most recent call last):\n",
            "  File \"/usr/local/lib/python3.6/dist-packages/torch/utils/data/dataloader.py\", line 926, in __del__\n",
            "    self._shutdown_workers()\n",
            "  File \"/usr/local/lib/python3.6/dist-packages/torch/utils/data/dataloader.py\", line 906, in _shutdown_workers\n",
            "    w.join()\n",
            "  File \"/usr/lib/python3.6/multiprocessing/process.py\", line 124, in join\n",
            "    res = self._popen.wait(timeout)\n",
            "  File \"/usr/lib/python3.6/multiprocessing/popen_fork.py\", line 50, in wait\n",
            "    return self.poll(os.WNOHANG if timeout == 0.0 else 0)\n",
            "  File \"/usr/lib/python3.6/multiprocessing/popen_fork.py\", line 28, in poll\n",
            "    pid, sts = os.waitpid(self.pid, flag)\n",
            "KeyboardInterrupt: \n"
          ],
          "name": "stderr"
        }
      ]
    },
    {
      "cell_type": "code",
      "metadata": {
        "id": "MRhXtSPWLtu6",
        "colab_type": "code",
        "colab": {}
      },
      "source": [
        "# for file in ['clipart', 'infograph', 'quickdraw', 'real', 'sketch']:\n",
        "#   download('http://csr.bu.edu/ftp/visda/2019/multi-source/domainnet/txt/' + file + '_train.txt',\n",
        "#            'drive/My Drive/Colab Notebooks/label/' + file + '_train.txt')\n",
        "#   download('http://csr.bu.edu/ftp/visda/2019/multi-source/domainnet/txt/' + file + '_test.txt',\n",
        "#            'drive/My Drive/Colab Notebooks/label/' + file + '_test.txt')"
      ],
      "execution_count": 0,
      "outputs": []
    },
    {
      "cell_type": "code",
      "metadata": {
        "id": "g4OPtAKIjFwo",
        "colab_type": "code",
        "outputId": "847bbcf0-1a01-4c3a-d690-a819ca638752",
        "colab": {
          "base_uri": "https://localhost:8080/",
          "height": 119
        }
      },
      "source": [
        "!wc -l drive/My\\ Drive/Colab\\ Notebooks/label/*_train.txt"
      ],
      "execution_count": 5,
      "outputs": [
        {
          "output_type": "stream",
          "text": [
            "   33525 drive/My Drive/Colab Notebooks/label/clipart_train.txt\n",
            "   36023 drive/My Drive/Colab Notebooks/label/infograph_train.txt\n",
            "  120750 drive/My Drive/Colab Notebooks/label/quickdraw_train.txt\n",
            "  120906 drive/My Drive/Colab Notebooks/label/real_train.txt\n",
            "   48212 drive/My Drive/Colab Notebooks/label/sketch_train.txt\n",
            "  359416 total\n"
          ],
          "name": "stdout"
        }
      ]
    },
    {
      "cell_type": "code",
      "metadata": {
        "id": "lvGwl9ElnxOR",
        "colab_type": "code",
        "outputId": "2875cc5d-7a13-4b77-8824-f94df2ae93bd",
        "colab": {
          "base_uri": "https://localhost:8080/",
          "height": 119
        }
      },
      "source": [
        "!wc -l drive/My\\ Drive/Colab\\ Notebooks/label/*_test.txt"
      ],
      "execution_count": 6,
      "outputs": [
        {
          "output_type": "stream",
          "text": [
            "  14604 drive/My Drive/Colab Notebooks/label/clipart_test.txt\n",
            "  15582 drive/My Drive/Colab Notebooks/label/infograph_test.txt\n",
            "  51750 drive/My Drive/Colab Notebooks/label/quickdraw_test.txt\n",
            "  52041 drive/My Drive/Colab Notebooks/label/real_test.txt\n",
            "  20916 drive/My Drive/Colab Notebooks/label/sketch_test.txt\n",
            " 154893 total\n"
          ],
          "name": "stdout"
        }
      ]
    },
    {
      "cell_type": "markdown",
      "metadata": {
        "id": "_RxLvPw6sttk",
        "colab_type": "text"
      },
      "source": [
        "# Install Packages"
      ]
    },
    {
      "cell_type": "code",
      "metadata": {
        "id": "TZ6Kl-XnswS-",
        "colab_type": "code",
        "outputId": "b86bd8db-e6d2-4d5e-e1bb-8f3e566b8ce3",
        "colab": {
          "base_uri": "https://localhost:8080/",
          "height": 360
        }
      },
      "source": [
        "# # PyTorch\n",
        "# !pip3 install torch==1.2.0+cu92 torchvision==0.4.0+cu92 -f https://download.pytorch.org/whl/torch_stable.html"
      ],
      "execution_count": 0,
      "outputs": [
        {
          "output_type": "stream",
          "text": [
            "Looking in links: https://download.pytorch.org/whl/torch_stable.html\n",
            "Collecting torch==1.2.0+cu92\n",
            "\u001b[?25l  Downloading https://download.pytorch.org/whl/cu92/torch-1.2.0%2Bcu92-cp36-cp36m-manylinux1_x86_64.whl (663.1MB)\n",
            "\u001b[K     |████████████████████████████████| 663.1MB 28kB/s \n",
            "\u001b[?25hCollecting torchvision==0.4.0+cu92\n",
            "\u001b[?25l  Downloading https://download.pytorch.org/whl/cu92/torchvision-0.4.0%2Bcu92-cp36-cp36m-manylinux1_x86_64.whl (8.8MB)\n",
            "\u001b[K     |████████████████████████████████| 8.8MB 49.5MB/s \n",
            "\u001b[?25hRequirement already satisfied: numpy in /usr/local/lib/python3.6/dist-packages (from torch==1.2.0+cu92) (1.17.4)\n",
            "Requirement already satisfied: six in /usr/local/lib/python3.6/dist-packages (from torchvision==0.4.0+cu92) (1.12.0)\n",
            "Requirement already satisfied: pillow>=4.1.1 in /usr/local/lib/python3.6/dist-packages (from torchvision==0.4.0+cu92) (4.3.0)\n",
            "Requirement already satisfied: olefile in /usr/local/lib/python3.6/dist-packages (from pillow>=4.1.1->torchvision==0.4.0+cu92) (0.46)\n",
            "Installing collected packages: torch, torchvision\n",
            "  Found existing installation: torch 1.3.1\n",
            "    Uninstalling torch-1.3.1:\n",
            "      Successfully uninstalled torch-1.3.1\n",
            "  Found existing installation: torchvision 0.4.2\n",
            "    Uninstalling torchvision-0.4.2:\n",
            "      Successfully uninstalled torchvision-0.4.2\n",
            "Successfully installed torch-1.2.0+cu92 torchvision-0.4.0+cu92\n"
          ],
          "name": "stdout"
        }
      ]
    },
    {
      "cell_type": "markdown",
      "metadata": {
        "id": "cfrwl2Wrs9wN",
        "colab_type": "text"
      },
      "source": [
        "# Import Packages"
      ]
    },
    {
      "cell_type": "code",
      "metadata": {
        "id": "JLZKatCYs_Iv",
        "colab_type": "code",
        "colab": {}
      },
      "source": [
        "import torch\n",
        "import torch.nn as nn\n",
        "import torch.nn.functional as F\n",
        "import torch.utils.data as data\n",
        "import torchvision\n",
        "from torchvision import datasets, transforms, models\n",
        "from torch.autograd import Variable\n",
        "from PIL import Image, ImageColor\n",
        "import os\n",
        "import random\n",
        "\n",
        "import pandas as pd\n",
        "import numpy as np\n",
        "import matplotlib.pyplot as plt"
      ],
      "execution_count": 0,
      "outputs": []
    },
    {
      "cell_type": "markdown",
      "metadata": {
        "id": "KYwCR9QNtfE6",
        "colab_type": "text"
      },
      "source": [
        "# Playground - CNN with MNIST"
      ]
    },
    {
      "cell_type": "markdown",
      "metadata": {
        "id": "maXqj4FCt1EZ",
        "colab_type": "text"
      },
      "source": [
        "## Load Data"
      ]
    },
    {
      "cell_type": "code",
      "metadata": {
        "id": "dUdpUg4Bthq_",
        "colab_type": "code",
        "outputId": "2f41529c-89ea-4ba0-c0a8-2a37df9b7187",
        "colab": {
          "base_uri": "https://localhost:8080/",
          "height": 275
        }
      },
      "source": [
        "BATCH_SIZE = 32\n",
        "\n",
        "## transformations\n",
        "transform = transforms.Compose(\n",
        "    [transforms.ToTensor()])\n",
        "\n",
        "## download and load training dataset\n",
        "trainset = torchvision.datasets.MNIST(root='./data', train=True,\n",
        "                                        download=True, transform=transform)\n",
        "trainloader = torch.utils.data.DataLoader(trainset, batch_size=BATCH_SIZE,\n",
        "                                          shuffle=True, num_workers=2)\n",
        "\n",
        "## download and load testing dataset\n",
        "testset = torchvision.datasets.MNIST(root='./data', train=False,\n",
        "                                       download=True, transform=transform)\n",
        "testloader = torch.utils.data.DataLoader(testset, batch_size=BATCH_SIZE,\n",
        "                                         shuffle=False, num_workers=2)"
      ],
      "execution_count": 0,
      "outputs": [
        {
          "output_type": "stream",
          "text": [
            "\r0it [00:00, ?it/s]"
          ],
          "name": "stderr"
        },
        {
          "output_type": "stream",
          "text": [
            "Downloading http://yann.lecun.com/exdb/mnist/train-images-idx3-ubyte.gz to ./data/MNIST/raw/train-images-idx3-ubyte.gz\n"
          ],
          "name": "stdout"
        },
        {
          "output_type": "stream",
          "text": [
            "9920512it [00:01, 9168746.75it/s]                            \n"
          ],
          "name": "stderr"
        },
        {
          "output_type": "stream",
          "text": [
            "Extracting ./data/MNIST/raw/train-images-idx3-ubyte.gz to ./data/MNIST/raw\n"
          ],
          "name": "stdout"
        },
        {
          "output_type": "stream",
          "text": [
            "  0%|          | 0/28881 [00:00<?, ?it/s]"
          ],
          "name": "stderr"
        },
        {
          "output_type": "stream",
          "text": [
            "Downloading http://yann.lecun.com/exdb/mnist/train-labels-idx1-ubyte.gz to ./data/MNIST/raw/train-labels-idx1-ubyte.gz\n"
          ],
          "name": "stdout"
        },
        {
          "output_type": "stream",
          "text": [
            "32768it [00:00, 141860.75it/s]           \n",
            "  0%|          | 0/1648877 [00:00<?, ?it/s]"
          ],
          "name": "stderr"
        },
        {
          "output_type": "stream",
          "text": [
            "Extracting ./data/MNIST/raw/train-labels-idx1-ubyte.gz to ./data/MNIST/raw\n",
            "Downloading http://yann.lecun.com/exdb/mnist/t10k-images-idx3-ubyte.gz to ./data/MNIST/raw/t10k-images-idx3-ubyte.gz\n"
          ],
          "name": "stdout"
        },
        {
          "output_type": "stream",
          "text": [
            "1654784it [00:00, 2307312.90it/s]                            \n",
            "0it [00:00, ?it/s]"
          ],
          "name": "stderr"
        },
        {
          "output_type": "stream",
          "text": [
            "Extracting ./data/MNIST/raw/t10k-images-idx3-ubyte.gz to ./data/MNIST/raw\n",
            "Downloading http://yann.lecun.com/exdb/mnist/t10k-labels-idx1-ubyte.gz to ./data/MNIST/raw/t10k-labels-idx1-ubyte.gz\n"
          ],
          "name": "stdout"
        },
        {
          "output_type": "stream",
          "text": [
            "8192it [00:00, 48170.72it/s]            \n"
          ],
          "name": "stderr"
        },
        {
          "output_type": "stream",
          "text": [
            "Extracting ./data/MNIST/raw/t10k-labels-idx1-ubyte.gz to ./data/MNIST/raw\n",
            "Processing...\n",
            "Done!\n"
          ],
          "name": "stdout"
        }
      ]
    },
    {
      "cell_type": "markdown",
      "metadata": {
        "id": "U33PyTTdt3Bb",
        "colab_type": "text"
      },
      "source": [
        "## EDA"
      ]
    },
    {
      "cell_type": "code",
      "metadata": {
        "id": "q8mGCHW1tscp",
        "colab_type": "code",
        "outputId": "b714d19c-5202-417d-8f62-f9ec625a8393",
        "colab": {
          "base_uri": "https://localhost:8080/",
          "height": 220
        }
      },
      "source": [
        "## functions to show an image\n",
        "def imshow(img):\n",
        "    #img = img / 2 + 0.5     # unnormalize\n",
        "    npimg = img.numpy()\n",
        "    plt.imshow(np.transpose(npimg, (1, 2, 0)))\n",
        "\n",
        "## get some random training images\n",
        "dataiter = iter(trainloader)\n",
        "images, labels = dataiter.next()\n",
        "\n",
        "## show images\n",
        "imshow(torchvision.utils.make_grid(images))"
      ],
      "execution_count": 0,
      "outputs": [
        {
          "output_type": "display_data",
          "data": {
            "image/png": "[encoded data removed]",
            "text/plain": [
              "<Figure size 432x288 with 1 Axes>"
            ]
          },
          "metadata": {
            "tags": []
          }
        }
      ]
    },
    {
      "cell_type": "code",
      "metadata": {
        "id": "SSIWHeU0t-BP",
        "colab_type": "code",
        "outputId": "65b4b5e5-5c8d-4dfc-aa7c-bc6708c2336a",
        "colab": {
          "base_uri": "https://localhost:8080/",
          "height": 51
        }
      },
      "source": [
        "for images, labels in trainloader:\n",
        "    print(\"Image batch dimensions:\", images.shape)\n",
        "    print(\"Image label dimensions:\", labels.shape)\n",
        "    break"
      ],
      "execution_count": 0,
      "outputs": [
        {
          "output_type": "stream",
          "text": [
            "Image batch dimensions: torch.Size([32, 1, 28, 28])\n",
            "Image label dimensions: torch.Size([32])\n"
          ],
          "name": "stdout"
        }
      ]
    },
    {
      "cell_type": "markdown",
      "metadata": {
        "id": "7fokSULTuZ9i",
        "colab_type": "text"
      },
      "source": [
        "## Model"
      ]
    },
    {
      "cell_type": "code",
      "metadata": {
        "id": "ju_pzqo0ubsJ",
        "colab_type": "code",
        "colab": {}
      },
      "source": [
        "class MyModel(nn.Module):\n",
        "    def __init__(self):\n",
        "        super(MyModel, self).__init__()\n",
        "\n",
        "        # 28x28x1 => 26x26x32\n",
        "        # Grayscale so we only need one channel going in, hence in_channels=1\n",
        "        # We use out_channels=32\n",
        "        # Kernel size is 3\n",
        "        self.conv1 = nn.Conv2d(in_channels=1, out_channels=32, kernel_size=3)\n",
        "        # Dense layer, linear transformation of data\n",
        "        # Output dimension = 128\n",
        "        self.d1 = nn.Linear(26 * 26 * 32, 128)\n",
        "        # Input dimension = 128, 10 is the number of classes\n",
        "        self.d2 = nn.Linear(128, 10)\n",
        "\n",
        "    def forward(self, x):\n",
        "        # 32x1x28x28 => 32x32x26x26\n",
        "        x = self.conv1(x)\n",
        "        # ReLu activation function\n",
        "        x = F.relu(x)\n",
        "\n",
        "        # flatten => 32 x (32*26*26)\n",
        "        x = x.flatten(start_dim = 1)\n",
        "\n",
        "        # 32 x (32*26*26) => 32x128\n",
        "        x = self.d1(x)\n",
        "        x = F.relu(x)\n",
        "\n",
        "        # logits => 32x10\n",
        "        logits = self.d2(x)\n",
        "        # SoftMax\n",
        "        out = F.softmax(logits, dim=1)\n",
        "        return out"
      ],
      "execution_count": 0,
      "outputs": []
    },
    {
      "cell_type": "code",
      "metadata": {
        "id": "z6FNx_t2vEzz",
        "colab_type": "code",
        "outputId": "f4dd1a0e-ec80-42ba-b333-f8879740008b",
        "colab": {
          "base_uri": "https://localhost:8080/",
          "height": 51
        }
      },
      "source": [
        "## test the model with 1 batch\n",
        "model = MyModel()\n",
        "for images, labels in trainloader:\n",
        "    print(\"batch size:\", images.shape)\n",
        "    out = model(images)\n",
        "    print(out.shape)\n",
        "    break"
      ],
      "execution_count": 0,
      "outputs": [
        {
          "output_type": "stream",
          "text": [
            "batch size: torch.Size([32, 1, 28, 28])\n",
            "torch.Size([32, 10])\n"
          ],
          "name": "stdout"
        }
      ]
    },
    {
      "cell_type": "markdown",
      "metadata": {
        "id": "xl0Dkt1IvLcV",
        "colab_type": "text"
      },
      "source": [
        "## Training"
      ]
    },
    {
      "cell_type": "code",
      "metadata": {
        "id": "me2L8h_IvMJ-",
        "colab_type": "code",
        "colab": {}
      },
      "source": [
        "learning_rate = 0.001\n",
        "num_epochs = 5\n",
        "\n",
        "device = torch.device(\"cuda:0\" if torch.cuda.is_available() else \"cpu\")\n",
        "model = MyModel()\n",
        "model = model.to(device)\n",
        "criterion = nn.CrossEntropyLoss()\n",
        "optimizer = torch.optim.Adam(model.parameters(), lr=learning_rate)\n",
        "\n",
        "## compute accuracy\n",
        "def get_accuracy(logit, target, batch_size):\n",
        "    ''' Obtain accuracy for training round '''\n",
        "    corrects = (torch.max(logit, 1)[1].view(target.size()).data == target.data).sum()\n",
        "    accuracy = 100.0 * corrects/batch_size\n",
        "    return accuracy.item()"
      ],
      "execution_count": 0,
      "outputs": []
    },
    {
      "cell_type": "code",
      "metadata": {
        "id": "birJjvXEvNQE",
        "colab_type": "code",
        "outputId": "aaef7d2b-7b73-4667-97ba-d6f9e4f5befe",
        "colab": {
          "base_uri": "https://localhost:8080/",
          "height": 102
        }
      },
      "source": [
        "for epoch in range(num_epochs):\n",
        "    train_running_loss = 0.0\n",
        "    train_acc = 0.0\n",
        "\n",
        "    model = model.train()\n",
        "\n",
        "    ## training step\n",
        "    for i, (images, labels) in enumerate(trainloader):\n",
        "        \n",
        "        images = images.to(device)\n",
        "        labels = labels.to(device)\n",
        "\n",
        "        ## forward + backprop + loss\n",
        "        logits = model(images)\n",
        "        loss = criterion(logits, labels)\n",
        "        optimizer.zero_grad()\n",
        "        loss.backward()\n",
        "\n",
        "        ## update model params\n",
        "        optimizer.step()\n",
        "\n",
        "        train_running_loss += loss.detach().item()\n",
        "        train_acc += get_accuracy(logits, labels, BATCH_SIZE)\n",
        "    \n",
        "    model.eval()\n",
        "    print('Epoch: %d | Loss: %.4f | Train Accuracy: %.2f' \\\n",
        "          %(epoch, train_running_loss / i, train_acc/i)) "
      ],
      "execution_count": 0,
      "outputs": [
        {
          "output_type": "stream",
          "text": [
            "Epoch: 0 | Loss: 1.5975 | Train Accuracy: 86.25\n",
            "Epoch: 1 | Loss: 1.4929 | Train Accuracy: 96.69\n",
            "Epoch: 2 | Loss: 1.4821 | Train Accuracy: 97.78\n",
            "Epoch: 3 | Loss: 1.4767 | Train Accuracy: 98.36\n",
            "Epoch: 4 | Loss: 1.4737 | Train Accuracy: 98.68\n"
          ],
          "name": "stdout"
        }
      ]
    },
    {
      "cell_type": "markdown",
      "metadata": {
        "id": "mwx7Zj-cvfgn",
        "colab_type": "text"
      },
      "source": [
        "## Test"
      ]
    },
    {
      "cell_type": "code",
      "metadata": {
        "id": "pkVIsNazvhce",
        "colab_type": "code",
        "outputId": "29d49387-e3ea-407d-b5f3-a917054eeae4",
        "colab": {
          "base_uri": "https://localhost:8080/",
          "height": 34
        }
      },
      "source": [
        "test_acc = 0.0\n",
        "for i, (images, labels) in enumerate(testloader, 0):\n",
        "    images = images.to(device)\n",
        "    labels = labels.to(device)\n",
        "    outputs = model(images)\n",
        "    test_acc += get_accuracy(outputs, labels, BATCH_SIZE)\n",
        "        \n",
        "print('Test Accuracy: %.2f'%( test_acc/i))"
      ],
      "execution_count": 0,
      "outputs": [
        {
          "output_type": "stream",
          "text": [
            "Test Accuracy: 98.12\n"
          ],
          "name": "stdout"
        }
      ]
    },
    {
      "cell_type": "markdown",
      "metadata": {
        "id": "NtE3kg4HTakt",
        "colab_type": "text"
      },
      "source": [
        "# Model 1 - Train on Quickdraw, Test on Quickdraw"
      ]
    },
    {
      "cell_type": "markdown",
      "metadata": {
        "id": "OpaFroT8SVFs",
        "colab_type": "text"
      },
      "source": [
        "## Load Images"
      ]
    },
    {
      "cell_type": "code",
      "metadata": {
        "id": "eolXtoLDTS0a",
        "colab_type": "code",
        "outputId": "2c30a3ba-2a8b-47ac-fcf8-7f8828982e00",
        "colab": {
          "base_uri": "https://localhost:8080/",
          "height": 34
        }
      },
      "source": [
        "!ls drive/My\\ Drive/Colab\\ Notebooks/data"
      ],
      "execution_count": 2,
      "outputs": [
        {
          "output_type": "stream",
          "text": [
            "clipart  infograph  real  sketch\n"
          ],
          "name": "stdout"
        }
      ]
    },
    {
      "cell_type": "code",
      "metadata": {
        "id": "YonGA9OuSXMD",
        "colab_type": "code",
        "colab": {}
      },
      "source": [
        "# Directories\n",
        "home_dir = 'drive/My Drive/Colab Notebooks/'\n",
        "img_dir = home_dir + 'data/'\n",
        "label_dir = home_dir + 'label/'"
      ],
      "execution_count": 0,
      "outputs": []
    },
    {
      "cell_type": "code",
      "metadata": {
        "id": "XWWPwxiD-f56",
        "colab_type": "code",
        "colab": {}
      },
      "source": [
        "###### LIST LOADER #######\n",
        "\n",
        "# Reference: https://github.com/Panda-Peter/visda2019-multisource/blob/master/Adapt/datasets/list_loader.py\n",
        "\n",
        "def default_loader(path):\n",
        "    \"\"\"Default loader\n",
        "    \"\"\"\n",
        "    return Image.open(path).convert('RGB')\n",
        "\n",
        "def collect_images(img_dir, labels):\n",
        "  \"\"\"Return a list of (image path, label)\n",
        "\n",
        "  Parameters:\n",
        "  img_dir (String) : the directory containing the images\n",
        "  labels (List[String]) : a list of labels (possibly with multiple sources together)\n",
        "\n",
        "  Returns:\n",
        "  List[(String, String)]\n",
        "  \"\"\"\n",
        "  images = []\n",
        "  for line in labels:\n",
        "    data = line.strip().split(' ')\n",
        "    path = os.path.join(img_dir, data[0])\n",
        "    # Unlabelled target data (i.e. clipart)\n",
        "    if (len(data) == 1):\n",
        "      label = None\n",
        "    else:\n",
        "      label = int(data[1])\n",
        "    item = (path, label)\n",
        "    images.append(item)\n",
        "  return images\n",
        "\n",
        "class MyDataset(data.Dataset):\n",
        "    \"\"\" Custom class for loading image list\n",
        "    \"\"\"\n",
        "    def __init__(self, img_dir, labels, transform=None, loader=default_loader):\n",
        "        imgs = collect_images(img_dir, labels)\n",
        "        self.img_dir = img_dir\n",
        "        self.imgs = imgs\n",
        "        self.transform = transform\n",
        "        self.loader = loader\n",
        "\n",
        "    def __getitem__(self, index):\n",
        "        path, label = self.imgs[index]\n",
        "        img = self.loader(path)\n",
        "\n",
        "        if self.transform is not None:\n",
        "            img = self.transform(img)\n",
        "        return index, img, label\n",
        "\n",
        "    def __len__(self):\n",
        "        return len(self.imgs)"
      ],
      "execution_count": 0,
      "outputs": []
    },
    {
      "cell_type": "code",
      "metadata": {
        "id": "kg1bK1ZdeZFf",
        "colab_type": "code",
        "colab": {}
      },
      "source": [
        "def make_data_set(img_dir, label_dir, domain_list, transforms, train_or_test):\n",
        "  labels = []\n",
        "  for domain in domain_list:\n",
        "    # E.g. \"drive/My Drive/Colab Notebooks/label/infograph_test.txt\"\n",
        "    label_file = label_dir + domain + '_' + train_or_test + '.txt'\n",
        "    for line in open(label_file):\n",
        "      labels.append(line)\n",
        "  return MyDataset(img_dir, labels, transforms)\n",
        "\n",
        "def make_data_loader(dataset, train_or_test):\n",
        "  if (train_or_test == 'train'):\n",
        "    return data.DataLoader(dataset, batch_size=4,\n",
        "                           shuffle=True, num_workers=4)\n",
        "  else:\n",
        "    return data.DataLoader(dataset, batch_size=4,\n",
        "                           shuffle=False, num_workers=4)"
      ],
      "execution_count": 0,
      "outputs": []
    },
    {
      "cell_type": "code",
      "metadata": {
        "id": "QRD-EqXEENZ7",
        "colab_type": "code",
        "colab": {},
        "cellView": "code"
      },
      "source": [
        "###### TRAINER ######\n",
        "\n",
        "class Trainer(object):\n",
        "    def __init__(self, args):\n",
        "        super(Trainer, self).__init__()\n",
        "        self.args = args\n",
        "        self.num_gpus = 1 # Only one GPU on Google Colab Q_Q\n",
        "        self.device = torch.device(\"cuda\")\n",
        "\n",
        "        # Random seed\n",
        "        self.seed = 647\n",
        "        if self.seed > 0:\n",
        "            random.seed(self.seed)\n",
        "            torch.manual_seed(self.seed)\n",
        "            torch.cuda.manual_seed_all(self.seed)\n",
        "\n",
        "        # Initialize data and list loader\n",
        "        self.setup_loader()\n",
        "        # self.init_network()\n",
        "        # self.iteration = 0\n",
        "\n",
        "    def setup_loader(self):\n",
        "        # Directories\n",
        "        self.home_dir = 'drive/My Drive/Colab Notebooks/'\n",
        "        self.img_dir = home_dir + 'data/'\n",
        "        self.label_dir = home_dir + 'label/'\n",
        "        self.source = ['infograph']\n",
        "        self.target = ['clipart']\n",
        "\n",
        "        train_transforms = transforms.Compose([transforms.Resize([200, 200]),\n",
        "                                               transforms.RandomHorizontalFlip(p=0.5),\n",
        "                                               transforms.RandomCrop([180, 180]),\n",
        "                                               transforms.ToTensor(),\n",
        "                                               transforms.Normalize([0.485, 0.456, 0.406],\n",
        "                                                                    [0.229, 0.224, 0.225])])\n",
        "        \n",
        "        test_transforms = transforms.Compose([transforms.Resize([200, 200]),\n",
        "                                              transforms.CenterCrop([180, 180]),\n",
        "                                              transforms.ToTensor(),\n",
        "                                              transforms.Normalize([0.485, 0.456, 0.406],\n",
        "                                                                   [0.229, 0.224, 0.225])])\n",
        "        \n",
        "        self.source_train_dataset = make_data_set(self.img_dir, self.label_dir, self.source, train_transforms, 'train')\n",
        "        self.source_train_dataloader = make_data_loader(self.source_train_dataset, 'train')\n",
        "        self.source_test_dataset = make_data_set(self.img_dir, self.label_dir, self.source, test_transforms, 'test')\n",
        "        self.source_test_dataloader = make_data_loader(self.source_train_dataset, 'test')\n",
        "\n",
        "        self.target_train_dataset = make_data_set(self.img_dir, self.label_dir, self.target, train_transforms, 'train')\n",
        "        self.target_train_dataloader = make_data_loader(self.target_train_dataset, 'train')\n",
        "        self.target_test_dataset = make_data_set(self.img_dir, self.label_dir, self.target, test_transforms, 'test')\n",
        "        self.target_test_dataloader = make_data_loader(self.target_train_dataset, 'test')\n",
        "\n",
        "    # def eval(self, epoch):\n",
        "    #   result_folder = 'drive/My Drive/Colab Notebooks/result/'\n",
        "    #   if not os.path.exists(result_folder):\n",
        "    #     os.mkdir(result_folder)\n",
        "\n",
        "      # loaders = []\n",
        "      # names = []\n",
        "      # loaders.append(self.target_test_loader)\n",
        "      # names.append('clipart')\n",
        "\n",
        "      # for i, loader in enumerate(loaders):\n",
        "      #     mean_acc, preds = evaluation.eval(epoch, names[i], loader, self.netG, self.netE)\n",
        "      #     if mean_acc is not None:\n",
        "      #         if (self.distributed == False) or (dist.get_rank() == 0):\n",
        "      #             #self.logger.info(mean_acc)\n",
        "      #             with open(os.path.join(result_folder, str(epoch) + '_' + names[i] + '.txt'), 'w') as fid:\n",
        "      #                 for v in preds:\n",
        "      #                     fid.write(str(v) + '\\n')\n",
        "\n",
        "    # def train_model(self):\n",
        "    #   # self.model.train(mode = True)\n",
        "\n",
        "    def train(self):\n",
        "      max_epoch = 50\n",
        "\n",
        "      for epoch in range(0, max_epoch):\n",
        "        # Train model\n",
        "        # self.eval(epoch)\n",
        "        # self.train_mode()\n",
        "\n",
        "        # \n",
        "        for idx, imgs, labels in self.source_train_dataloader:\n",
        "          imgs = Variable(imgs.cuda())\n",
        "          labels = Variable(labels.cuda())\n",
        "\n",
        "          # self.optim.zero_grad()\n",
        "          # _, sup_pool5_out = self.netG(imgs)\n",
        "          # _, sup_logits_out = self.netE(sup_pool5_out)\n",
        "\n",
        "          # loss_arr = []\n",
        "          # loss_w = []\n",
        "\n",
        "          # # source cross entropy loss\n",
        "          # loss, loss_info = self.cross_ent(sup_logits_out, labels)\n",
        "          # loss_arr.append(loss_info)\n",
        "          # loss_w.append(cfg.LOSSES.CROSS_ENT_WEIGHT)\n",
        "\n",
        "          # self.display(self.iteration, loss, loss_arr, loss_w)\n",
        "\n",
        "          # loss.backward()\n",
        "          # self.optim.step(epoch)\n",
        "          # self.iteration += 1\n",
        "        \n",
        "        # self.save_model(epoch + 1)\n",
        "        # _, self.source_train_loader = data_loader.load_mergesource_train(self.source_image_set)\n",
        "\n",
        "      "
      ],
      "execution_count": 0,
      "outputs": []
    },
    {
      "cell_type": "code",
      "metadata": {
        "id": "nU9kiO_yRJJj",
        "colab_type": "code",
        "colab": {}
      },
      "source": [
        "trainer = Trainer(None)"
      ],
      "execution_count": 0,
      "outputs": []
    },
    {
      "cell_type": "code",
      "metadata": {
        "id": "WsA0eTvTwIAs",
        "colab_type": "code",
        "colab": {}
      },
      "source": [
        "def imshow(inp, title=None):\n",
        "    \"\"\"Imshow for Tensor.\"\"\"\n",
        "    inp = inp.numpy().transpose((1, 2, 0))\n",
        "    mean = np.array([0.485, 0.456, 0.406])\n",
        "    std = np.array([0.229, 0.224, 0.225])\n",
        "    inp = std * inp + mean\n",
        "    inp = np.clip(inp, 0, 1)\n",
        "    plt.imshow(inp)\n",
        "    if title is not None:\n",
        "        plt.title(title)\n",
        "    plt.pause(0.001)  # pause a bit so that plots are updated"
      ],
      "execution_count": 0,
      "outputs": []
    },
    {
      "cell_type": "code",
      "metadata": {
        "id": "3kEhAtEFwqon",
        "colab_type": "code",
        "colab": {}
      },
      "source": [
        "sample_idx, sample_img, sample_label = next(iter(trainer.source_train_dataloader))"
      ],
      "execution_count": 0,
      "outputs": []
    },
    {
      "cell_type": "code",
      "metadata": {
        "id": "LS4Bk9I3wyp5",
        "colab_type": "code",
        "colab": {}
      },
      "source": [
        "out = torchvision.utils.make_grid(sample_img)"
      ],
      "execution_count": 0,
      "outputs": []
    },
    {
      "cell_type": "code",
      "metadata": {
        "id": "BMHWlf1ryMhQ",
        "colab_type": "code",
        "colab": {
          "base_uri": "https://localhost:8080/",
          "height": 148
        },
        "outputId": "76ce3151-2d2f-40f4-8ec6-529bae9d519e"
      },
      "source": [
        "imshow(out, title=[x for x in sample_label])"
      ],
      "execution_count": 38,
      "outputs": [
        {
          "output_type": "display_data",
          "data": {
            "image/png": "[encoded data removed]",
            "text/plain": [
              "<Figure size 432x288 with 1 Axes>"
            ]
          },
          "metadata": {
            "tags": []
          }
        }
      ]
    },
    {
      "cell_type": "code",
      "metadata": {
        "id": "NL7E1p5qyjoj",
        "colab_type": "code",
        "colab": {}
      },
      "source": [
        ""
      ],
      "execution_count": 0,
      "outputs": []
    }
  ]
}