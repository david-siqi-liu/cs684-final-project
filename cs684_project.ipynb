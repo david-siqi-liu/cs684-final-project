{
  "nbformat": 4,
  "nbformat_minor": 0,
  "metadata": {
    "colab": {
      "name": "cs684-project.ipynb",
      "provenance": [],
      "collapsed_sections": [],
      "include_colab_link": true
    },
    "kernelspec": {
      "name": "python3",
      "display_name": "Python 3"
    },
    "accelerator": "GPU"
  },
  "cells": [
    {
      "cell_type": "markdown",
      "metadata": {
        "id": "view-in-github",
        "colab_type": "text"
      },
      "source": [
        "<a href=\"https://colab.research.google.com/github/david-siqi-liu/cs684-final-project/blob/master/cs684_project.ipynb\" target=\"_parent\"><img src=\"https://colab.research.google.com/assets/colab-badge.svg\" alt=\"Open In Colab\"/></a>"
      ]
    },
    {
      "cell_type": "code",
      "metadata": {
        "colab_type": "code",
        "id": "A0vnybQBrDzV",
        "colab": {}
      },
      "source": [
        "### IMPORT DATA ###\n",
        "\n",
        "# from urllib.request import urlretrieve\n",
        "# import os\n",
        "# from zipfile import ZipFile\n",
        "\n",
        "# def download(url, file):\n",
        "#     if not os.path.isfile(file):\n",
        "#         urlretrieve(url,file)\n",
        "\n",
        "# #If the downloaded file is a zip file than you can use below function to unzip it.\n",
        "# def uncompress_features_labels(file):\n",
        "#     if not os.path.isdir('data/' + file.split('.zip')[0]):\n",
        "#         with ZipFile(file) as zipf:\n",
        "#             zipf.extractall('data')\n",
        "  \n",
        "# for file in ['clipart.zip', 'infograph.zip', 'painting.zip', 'quickdraw.zip', 'real.zip', 'sketch.zip']:\n",
        "#   download('http://csr.bu.edu/ftp/visda/2019/multi-source/' + file, file)\n",
        "#   print(\"Downloaded: {0}\".format(file))\n",
        "#   uncompress_features_labels(file)\n",
        "#   print(\"Extracted: {0}\".format(file))\n",
        "\n",
        "# for file in ['clipart', 'infograph', 'painting', 'quickdraw', 'real', 'sketch']:\n",
        "#   download('http://csr.bu.edu/ftp/visda/2019/multi-source/domainnet/txt/' + file + '_train.txt', 'label/' + file + '_train.txt')\n",
        "#   download('http://csr.bu.edu/ftp/visda/2019/multi-source/domainnet/txt/' + file + '_test.txt', 'label/' + file + '_test.txt')"
      ],
      "execution_count": 0,
      "outputs": []
    },
    {
      "cell_type": "code",
      "metadata": {
        "id": "UGLA4jDKrGGO",
        "colab_type": "code",
        "colab": {}
      },
      "source": [
        ""
      ],
      "execution_count": 0,
      "outputs": []
    }
  ]
}